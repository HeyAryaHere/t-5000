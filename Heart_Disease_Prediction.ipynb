{
  "cells": [
    {
      "cell_type": "code",
      "execution_count": null,
      "metadata": {
        "id": "zaGB-Z1dP8Dx"
      },
      "outputs": [],
      "source": [
        "import numpy as np\n",
        "import pandas as pd\n",
        "from sklearn.model_selection import train_test_split\n",
        "from sklearn.linear_model import LogisticRegression\n",
        "from sklearn.metrics import accuracy_score"
      ]
    },
    {
      "cell_type": "code",
      "execution_count": null,
      "metadata": {
        "colab": {
          "base_uri": "https://localhost:8080/"
        },
        "id": "w7nbBrMrXo3Z",
        "outputId": "1fbce9cd-e23f-42e8-cab2-1fe41a9d99fa"
      },
      "outputs": [],
      "source": [
        "#load the data\n",
        "heart_data = pd.read_csv('heart.csv')\n",
        "print(heart_data)"
      ]
    },
    {
      "cell_type": "markdown",
      "metadata": {
        "id": "iYHKZVzWDf4a"
      },
      "source": [
        "**BASIC INFORMATION ABOUT DATASET**"
      ]
    },
    {
      "cell_type": "code",
      "execution_count": null,
      "metadata": {
        "colab": {
          "base_uri": "https://localhost:8080/",
          "height": 270
        },
        "id": "g1cAoNofYs3t",
        "outputId": "f69afcc7-f83f-402e-a6f8-9de82daceae2"
      },
      "outputs": [],
      "source": [
        "# print first 5 rows of the dataset\n",
        "heart_data.head()"
      ]
    },
    {
      "cell_type": "code",
      "execution_count": null,
      "metadata": {
        "colab": {
          "base_uri": "https://localhost:8080/",
          "height": 270
        },
        "id": "FTQ2zBYSYufG",
        "outputId": "00f7c677-b1be-43b8-c546-42b622fd452f"
      },
      "outputs": [],
      "source": [
        "# print last 5 rows of the dataset\n",
        "heart_data.tail()"
      ]
    },
    {
      "cell_type": "code",
      "execution_count": null,
      "metadata": {
        "colab": {
          "base_uri": "https://localhost:8080/"
        },
        "id": "WSPu0W9SY1CE",
        "outputId": "61bcd44d-53eb-4448-ef11-82460c3688a6"
      },
      "outputs": [],
      "source": [
        "# number of rows and columns in the dataset\n",
        "heart_data.shape"
      ]
    },
    {
      "cell_type": "code",
      "execution_count": null,
      "metadata": {
        "colab": {
          "base_uri": "https://localhost:8080/"
        },
        "id": "MsmqyKhvY5ZA",
        "outputId": "a75094eb-2620-440f-9a90-430e1720b756"
      },
      "outputs": [],
      "source": [
        "# getting some info about the data\n",
        "heart_data.info()"
      ]
    },
    {
      "cell_type": "code",
      "execution_count": null,
      "metadata": {
        "colab": {
          "base_uri": "https://localhost:8080/"
        },
        "id": "jMdjaGWwY6-F",
        "outputId": "243d0f2b-e1fd-4e22-a60e-80b5b8ec4813"
      },
      "outputs": [],
      "source": [
        "# checking for missing values\n",
        "heart_data.isnull().sum()"
      ]
    },
    {
      "cell_type": "code",
      "execution_count": null,
      "metadata": {
        "colab": {
          "base_uri": "https://localhost:8080/",
          "height": 364
        },
        "id": "OqKWWdPrapH3",
        "outputId": "ebc21584-3cf6-495a-f98e-ac9f81eaa034"
      },
      "outputs": [],
      "source": [
        "# statistical measures about the data\n",
        "heart_data.describe()"
      ]
    },
    {
      "cell_type": "markdown",
      "metadata": {
        "id": "BKyYKngdDmdJ"
      },
      "source": [
        "***DATA VISUALIZATION***\n",
        "\n",
        "\n",
        "\n",
        "\n",
        "\n",
        "\n"
      ]
    },
    {
      "cell_type": "markdown",
      "metadata": {
        "id": "BIxjMsQ6_ly6"
      },
      "source": [
        "\n",
        "\n",
        "1.   **PIE CHART**\n",
        "\n",
        "\n"
      ]
    },
    {
      "cell_type": "code",
      "execution_count": null,
      "metadata": {
        "colab": {
          "base_uri": "https://localhost:8080/",
          "height": 319
        },
        "id": "ciP51M0r-XBp",
        "outputId": "4a6aebb2-53c4-4fab-cb67-74a42994d7b8"
      },
      "outputs": [],
      "source": [
        "import matplotlib.pyplot as plt\n",
        "import pandas as pd\n",
        "heart_data = pd.read_csv('heart.csv');\n",
        "labels = '1', 'other than 1'\n",
        "sizes = [(heart_data['Diabetic'] == 1).sum(), (heart_data['Diabetic'] != 1).sum()]\n",
        "colors = ['red', 'lightgreen']\n",
        "\n",
        "fig, ax = plt.subplots(figsize=(5,5))\n",
        "ax.pie(sizes,labels = labels, colors=colors)\n",
        "\n",
        "plt.title('Diabetes')\n",
        "plt.show()\n"
      ]
    },
    {
      "cell_type": "markdown",
      "metadata": {
        "id": "1-YdQW5__uwp"
      },
      "source": [
        "\n",
        "\n",
        "\n",
        "2.  **BAR GRAPH**\n",
        "\n"
      ]
    },
    {
      "cell_type": "code",
      "execution_count": null,
      "metadata": {
        "colab": {
          "base_uri": "https://localhost:8080/",
          "height": 284
        },
        "id": "Z5LVTxvA6GTV",
        "outputId": "503549ed-d77f-47a0-e8d7-02276ad48d20"
      },
      "outputs": [],
      "source": [
        "import matplotlib.pyplot as plt\n",
        "import pandas as pd\n",
        "heart_data = pd.read_csv('heart.csv');\n",
        "labels = ['30', 'More than 30']\n",
        "sizes = [(heart_data['PhysicalHealth'] == 30).sum(), (heart_data['PhysicalHealth'] != 30).sum()]\n",
        "colors = ['red', 'lightgreen']\n",
        "\n",
        "x = [0,1]\n",
        "fig,ax = plt.subplots(figsize=(4,4))\n",
        "ax.bar(x, sizes, color=colors, align='center')\n",
        "plt.xticks(x,labels)\n",
        "\n",
        "plt.title('Physical Health')\n",
        "plt.show()"
      ]
    },
    {
      "cell_type": "markdown",
      "metadata": {
        "id": "eQdAPczm_zn9"
      },
      "source": [
        "\n",
        "**3. HEATMAP**\n",
        "\n"
      ]
    },
    {
      "cell_type": "code",
      "execution_count": null,
      "metadata": {
        "colab": {
          "base_uri": "https://localhost:8080/",
          "height": 512
        },
        "id": "yA55LgaG-vJf",
        "outputId": "4475ac91-58f4-46f5-e70c-4ceb59b59c2e"
      },
      "outputs": [],
      "source": [
        "import pandas as pd\n",
        "import matplotlib.pyplot as plt\n",
        "import seaborn as sns\n",
        "\n",
        "heart_data = pd.read_csv('heart.csv');\n",
        "\n",
        "sns.set(rc={\"figure.figsize\":(10,7)})\n",
        "sns.heatmap(heart_data.corr(), annot=True, cmap=\"coolwarm\")\n",
        "plt.show()"
      ]
    },
    {
      "cell_type": "markdown",
      "metadata": {
        "id": "Ye0qeIqa_87p"
      },
      "source": [
        "4. **HISTOGRAM**\n",
        "\n"
      ]
    },
    {
      "cell_type": "code",
      "execution_count": null,
      "metadata": {
        "colab": {
          "base_uri": "https://localhost:8080/",
          "height": 464
        },
        "id": "SkmDCWf3_AB4",
        "outputId": "9ab61059-7063-4c4b-e817-76ab24ae8b0e"
      },
      "outputs": [],
      "source": [
        "import matplotlib.pyplot as plt\n",
        "import seaborn as sns\n",
        "\n",
        "heart_data = pd.read_csv('heart.csv');\n",
        "heart_data_new = pd.crosstab(index=heart_data['MentalHealth'], columns=['MentalHealth'], margins=True)\n",
        "plt.hist(heart_data_new['MentalHealth'], bins=5, color='red', alpha=0.5)\n",
        "plt.title('Mental Health of Person')\n",
        "plt.xlabel(\"Data\")\n",
        "plt.ylabel(\"Frequency\")\n",
        "plt.show()"
      ]
    },
    {
      "cell_type": "markdown",
      "metadata": {
        "id": "AYfZlH1aAB8T"
      },
      "source": [
        "5. **CONTINGENCY TABLE**\n",
        "\n"
      ]
    },
    {
      "cell_type": "code",
      "execution_count": null,
      "metadata": {
        "colab": {
          "base_uri": "https://localhost:8080/",
          "height": 1000
        },
        "id": "4fHO4jsSAGzO",
        "outputId": "8b3e1f9d-ba0a-4065-87af-06cf37cd6981"
      },
      "outputs": [],
      "source": [
        "import matplotlib.pyplot as plt\n",
        "import seaborn as sns\n",
        "import pandas as pd\n",
        "\n",
        "heart_data = pd.read_csv('heart.csv');\n",
        "pd.crosstab(index=heart_data['PhysicalHealth'], columns=heart_data['MentalHealth'])"
      ]
    },
    {
      "cell_type": "code",
      "execution_count": null,
      "metadata": {
        "colab": {
          "base_uri": "https://localhost:8080/"
        },
        "id": "mHQbfhcQbVWC",
        "outputId": "79496a53-2ccb-46e1-e868-feffbc63829f"
      },
      "outputs": [],
      "source": [
        "# checking the distribution of Target Variable\n",
        "heart_data['HeartDisease'].value_counts()"
      ]
    },
    {
      "cell_type": "markdown",
      "metadata": {
        "id": "Ou86FQoPFAvW"
      },
      "source": [
        "**SPLITTING FEATURES AND TARGET**"
      ]
    },
    {
      "cell_type": "code",
      "execution_count": null,
      "metadata": {
        "id": "vAlwnwg3bzcX"
      },
      "outputs": [],
      "source": [
        "#Splitting the Features and Target\n",
        "X = heart_data.drop(columns='HeartDisease', axis=1)\n",
        "Y = heart_data['HeartDisease']"
      ]
    },
    {
      "cell_type": "code",
      "execution_count": null,
      "metadata": {
        "colab": {
          "base_uri": "https://localhost:8080/"
        },
        "id": "nQzPu9bCdKAW",
        "outputId": "7a9d597b-5168-4bee-e277-5e5670217c9f"
      },
      "outputs": [],
      "source": [
        "print(X)"
      ]
    },
    {
      "cell_type": "code",
      "execution_count": null,
      "metadata": {
        "colab": {
          "base_uri": "https://localhost:8080/"
        },
        "id": "42421DgVdLzI",
        "outputId": "717598a8-3ab2-4a0a-9c61-de951a9e80b5"
      },
      "outputs": [],
      "source": [
        "print(Y)"
      ]
    },
    {
      "cell_type": "code",
      "execution_count": null,
      "metadata": {
        "id": "IG_gYUB1diHY"
      },
      "outputs": [],
      "source": [
        "#Splitting the Data into Training data & Test Data\n",
        "X_train, X_test, Y_train, Y_test = train_test_split(X, Y, test_size=0.2, stratify=Y, random_state=2)"
      ]
    },
    {
      "cell_type": "code",
      "execution_count": null,
      "metadata": {
        "colab": {
          "base_uri": "https://localhost:8080/"
        },
        "id": "Ytc0KsbhfEMI",
        "outputId": "d4d5eae4-9f0d-44cb-cde7-b6c58c5ac85c"
      },
      "outputs": [],
      "source": [
        "print(X.shape, X_train.shape, X_test.shape)"
      ]
    },
    {
      "cell_type": "markdown",
      "metadata": {
        "id": "R1wuDn-rFIUL"
      },
      "source": [
        "**MODEL TRAINING**"
      ]
    },
    {
      "cell_type": "markdown",
      "metadata": {
        "id": "axLYdJweIPrC"
      },
      "source": [
        "**LOGISITC REGRESSION**"
      ]
    },
    {
      "cell_type": "code",
      "execution_count": null,
      "metadata": {
        "colab": {
          "base_uri": "https://localhost:8080/",
          "height": 220
        },
        "id": "_KfnAxO5fw1K",
        "outputId": "022be4b3-02e6-45f8-9176-436b1bc69a70"
      },
      "outputs": [],
      "source": [
        "#model training  LOGISTIC REGRESSION\n",
        "model = LogisticRegression()\n",
        "model.fit(X_train, Y_train)"
      ]
    },
    {
      "cell_type": "code",
      "execution_count": null,
      "metadata": {
        "id": "q2TKgCX1A5Jv"
      },
      "outputs": [],
      "source": [
        "# accuracy on training data\n",
        "X_train_prediction = model.predict(X_train)\n",
        "training_data_accuracy = accuracy_score(X_train_prediction, Y_train)"
      ]
    },
    {
      "cell_type": "code",
      "execution_count": null,
      "metadata": {
        "colab": {
          "base_uri": "https://localhost:8080/"
        },
        "id": "0X6h_FTXBl-1",
        "outputId": "4b1c6ba1-7f21-4f82-e176-47107f270371"
      },
      "outputs": [],
      "source": [
        "print('Accuracy on Training data : ', training_data_accuracy)"
      ]
    },
    {
      "cell_type": "code",
      "execution_count": null,
      "metadata": {
        "colab": {
          "base_uri": "https://localhost:8080/"
        },
        "id": "LLa5L2qVMoa2",
        "outputId": "29cd719b-536a-48f9-fd7d-2a66d71180af"
      },
      "outputs": [],
      "source": [
        "input_data = (62,0,0,140,268,0,0,160,0,3.6,0,2,2,1,4,5,9)\n",
        "\n",
        "# change the input data to a numpy array\n",
        "input_data_as_numpy_array= np.asarray(input_data)\n",
        "\n",
        "# reshape the numpy array as we are predicting for only on instance\n",
        "input_data_reshaped = input_data_as_numpy_array.reshape(1,-1)\n",
        "\n",
        "prediction = model.predict(input_data_reshaped)\n",
        "print(prediction)\n",
        "\n",
        "if (prediction[0]== 0):\n",
        "  print('The Person does not have a Heart Disease')\n",
        "else:\n",
        "  print('The Person has Heart Disease')"
      ]
    },
    {
      "cell_type": "markdown",
      "metadata": {
        "id": "UExZGMOyE603"
      },
      "source": [
        "**NAVIE BAYES** \n",
        "model prediction and accuracy\n",
        "---\n",
        "\n"
      ]
    },
    {
      "cell_type": "code",
      "execution_count": null,
      "metadata": {
        "colab": {
          "base_uri": "https://localhost:8080/",
          "height": 74
        },
        "id": "7fa_PkAHD9YC",
        "outputId": "c1d6cf09-3fef-4f77-cccf-004330a24e5c"
      },
      "outputs": [],
      "source": [
        "from sklearn.naive_bayes import GaussianNB \n",
        "nb = GaussianNB() \n",
        "nb.fit(X_train, Y_train)"
      ]
    },
    {
      "cell_type": "code",
      "execution_count": null,
      "metadata": {
        "id": "GYKUdX8bGD_J"
      },
      "outputs": [],
      "source": [
        "# accuracy on training data\n",
        "X_train_prediction = nb.predict(X_train)\n",
        "training_data_accuracy = accuracy_score(X_train_prediction, Y_train)"
      ]
    },
    {
      "cell_type": "code",
      "execution_count": null,
      "metadata": {
        "colab": {
          "base_uri": "https://localhost:8080/"
        },
        "id": "MeOyd4EMGJ8W",
        "outputId": "0a49c48e-d5b2-45c9-a484-2cb2571693fe"
      },
      "outputs": [],
      "source": [
        "print('Accuracy on Training data : ', training_data_accuracy)"
      ]
    },
    {
      "cell_type": "code",
      "execution_count": null,
      "metadata": {
        "colab": {
          "base_uri": "https://localhost:8080/"
        },
        "id": "U1zPHAZPFmH8",
        "outputId": "1c819ecc-b11a-4610-f944-a12c73f6640c"
      },
      "outputs": [],
      "source": [
        "input_data = (99,0,0,140,268,0,0,160,0,3,8,9,12,9,67,9,9)\n",
        "\n",
        "# change the input data to a numpy array\n",
        "input_data_as_numpy_array= np.asarray(input_data)\n",
        "\n",
        "# reshape the numpy array as we are predicting for only on instance\n",
        "input_data_reshaped = input_data_as_numpy_array.reshape(1,-1)\n",
        "\n",
        "prediction = nb.predict(input_data_reshaped)\n",
        "print(prediction)\n",
        "\n",
        "if (prediction[0]== 0):\n",
        "  print('The Person does not have a Heart Disease')\n",
        "else:\n",
        "  print('The Person has Heart Disease')"
      ]
    },
    {
      "cell_type": "markdown",
      "metadata": {
        "id": "5NG-geAnH8ro"
      },
      "source": [
        "**RandomForestClassifier**\n",
        "\n",
        "\n",
        "MODEL ACCURACY AND PREDICTION\n",
        "---\n",
        "\n"
      ]
    },
    {
      "cell_type": "code",
      "execution_count": null,
      "metadata": {
        "colab": {
          "base_uri": "https://localhost:8080/",
          "height": 74
        },
        "id": "6vWoGuAFG_4h",
        "outputId": "1b9bcd98-7b34-48b6-8167-ce09cdfe5039"
      },
      "outputs": [],
      "source": [
        "from sklearn.ensemble import RandomForestClassifier\n",
        "regressor = RandomForestClassifier(n_estimators = 100, random_state = 0)\n",
        "regressor.fit(X_train, Y_train)"
      ]
    },
    {
      "cell_type": "code",
      "execution_count": null,
      "metadata": {
        "colab": {
          "base_uri": "https://localhost:8080/"
        },
        "id": "_wD_MrahHOix",
        "outputId": "90b875f1-f9d8-4c57-c82e-c5b171d7e97b"
      },
      "outputs": [],
      "source": [
        "from sklearn.metrics import accuracy_score\n",
        "X_test_prediction_rfr = regressor.predict(X_test)\n",
        "accuracy_rfr = accuracy_score(X_test_prediction_rfr, Y_test)\n",
        "print(\" Random Forest Classifier: \" + str(accuracy_rfr * 100))"
      ]
    },
    {
      "cell_type": "code",
      "execution_count": null,
      "metadata": {
        "colab": {
          "base_uri": "https://localhost:8080/"
        },
        "id": "URHcDz9xHVNd",
        "outputId": "4b458111-29f8-414e-e32c-ac90b096a83f"
      },
      "outputs": [],
      "source": [
        "input_data = (2,12,2,1,2,52,2,2,2,2,2,2,2,2,2,2,7)\n",
        "\n",
        "input_data_as_numpy_array = np.asarray(input_data)\n",
        "\n",
        "input_data_reshaped = input_data_as_numpy_array.reshape(1,-1)\n",
        "\n",
        "prediction = regressor.predict(input_data_reshaped)\n",
        "print(prediction)\n",
        "\n",
        "if (prediction[0]== 0):\n",
        "  print('The Person does not have a Heart Disease')\n",
        "else:\n",
        "  print('The Person has Heart Disease')"
      ]
    },
    {
      "cell_type": "markdown",
      "metadata": {
        "id": "IcF1ODhiIgF_"
      },
      "source": [
        "**DECISION TREE CLASSIFIER**\n",
        "\n",
        "MODEL ACCURACY AND PREDICTION\n",
        "---\n",
        "\n",
        "\n"
      ]
    },
    {
      "cell_type": "code",
      "execution_count": null,
      "metadata": {
        "colab": {
          "base_uri": "https://localhost:8080/",
          "height": 74
        },
        "id": "NzAWomseIoyN",
        "outputId": "4d1f4dcb-c67e-48e5-fb5b-bc918182f6c9"
      },
      "outputs": [],
      "source": [
        "from sklearn.tree import DecisionTreeClassifier\n",
        "dectree = DecisionTreeClassifier(criterion = 'entropy', random_state = 42)\n",
        "dectree.fit(X_train, Y_train)"
      ]
    },
    {
      "cell_type": "code",
      "execution_count": null,
      "metadata": {
        "colab": {
          "base_uri": "https://localhost:8080/"
        },
        "id": "58ulT2yTIsmq",
        "outputId": "89cba7e9-3b83-410c-f13b-8a4786dd84d4"
      },
      "outputs": [],
      "source": [
        "from sklearn.metrics import accuracy_score\n",
        "X_test_prediction_dec = dectree.predict(X_test)\n",
        "accuracy_dec = accuracy_score(X_test_prediction_dec, Y_test)\n",
        "print(\" Decision Tree Classifier: \" + str(accuracy_dec * 100))"
      ]
    },
    {
      "cell_type": "code",
      "execution_count": null,
      "metadata": {
        "colab": {
          "base_uri": "https://localhost:8080/"
        },
        "id": "wBm5OjvXIy5W",
        "outputId": "f811bf44-d02b-44a3-c2ce-12f504289d41"
      },
      "outputs": [],
      "source": [
        "input_data = (2,12,2,1,2,52,8,9,12,8,7,45,89,0,7,4,6)\n",
        "\n",
        "input_data_as_numpy_array = np.asarray(input_data)\n",
        "\n",
        "input_data_reshaped = input_data_as_numpy_array.reshape(1,-1)\n",
        "\n",
        "prediction = dectree.predict(input_data_reshaped)\n",
        "print(prediction)\n",
        "\n",
        "if (prediction[0]== 0):\n",
        "  print('The Person does not have a Heart Disease')\n",
        "else:\n",
        "  print('The Person has Heart Disease')"
      ]
    },
    {
      "cell_type": "markdown",
      "metadata": {
        "id": "nL4TIvygJh2N"
      },
      "source": [
        "**K NEIGHBORS CLASSIFIER**\n",
        "\n",
        "\n",
        "MODEL ACCURACY AND PREDICTION\n",
        "---\n",
        "\n"
      ]
    },
    {
      "cell_type": "code",
      "execution_count": null,
      "metadata": {
        "colab": {
          "base_uri": "https://localhost:8080/",
          "height": 74
        },
        "id": "73Oj8qJsJKcB",
        "outputId": "1b3b1eea-9f68-44a6-d388-44a91c1b6019"
      },
      "outputs": [],
      "source": [
        "from sklearn.neighbors import KNeighborsClassifier\n",
        "knn = KNeighborsClassifier(n_neighbors = 24, metric = 'minkowski', p = 2)\n",
        "knn.fit(X_train, Y_train)"
      ]
    },
    {
      "cell_type": "code",
      "execution_count": null,
      "metadata": {
        "colab": {
          "base_uri": "https://localhost:8080/"
        },
        "id": "fH-DiOzgJZ-1",
        "outputId": "c26ce69d-8da9-4a95-bc44-edafc1cdf413"
      },
      "outputs": [],
      "source": [
        "from sklearn.metrics import accuracy_score\n",
        "X_test_prediction_knn = knn.predict(X_test)\n",
        "accuracy_knn = accuracy_score(X_test_prediction_knn, Y_test)\n",
        "print(\" KNN: \" + str(accuracy_knn * 100))"
      ]
    },
    {
      "cell_type": "code",
      "execution_count": null,
      "metadata": {
        "colab": {
          "base_uri": "https://localhost:8080/"
        },
        "id": "iP_rcVXLKFp3",
        "outputId": "c8554b3b-a63c-458b-b443-49c26311c4eb"
      },
      "outputs": [],
      "source": [
        "input_data = (2,5,6,8,4,7,9,12,67,8,53,1,5,78,1,4,7)\n",
        "\n",
        "input_data_as_numpy_array = np.asarray(input_data)\n",
        "\n",
        "input_data_reshaped = input_data_as_numpy_array.reshape(1,-1)\n",
        "\n",
        "prediction = knn.predict(input_data_reshaped)\n",
        "print(prediction)\n",
        "\n",
        "if (prediction[0]== 0):\n",
        "  print('The Person does not have a Heart Disease')\n",
        "else:\n",
        "  print('The Person has Heart Disease')"
      ]
    },
    {
      "cell_type": "code",
      "execution_count": null,
      "metadata": {
        "id": "zVewWgzjQoHZ"
      },
      "outputs": [],
      "source": [
        "import pickle\n",
        "# Writing different model files to file\n",
        "with open( 'heart.sav', 'wb') as f:\n",
        "    pickle.dump(model,f)"
      ]
    }
  ],
  "metadata": {
    "colab": {
      "provenance": []
    },
    "kernelspec": {
      "display_name": "Python 3 (ipykernel)",
      "language": "python",
      "name": "python3"
    }
  },
  "nbformat": 4,
  "nbformat_minor": 0
}
